{
 "cells": [
  {
   "cell_type": "code",
   "execution_count": 1,
   "id": "1cfb58be",
   "metadata": {},
   "outputs": [],
   "source": [
    "import pandas as pd"
   ]
  },
  {
   "cell_type": "code",
   "execution_count": 2,
   "id": "d9d46ffd",
   "metadata": {},
   "outputs": [],
   "source": [
    "df = pd.read_csv(\"sample.tsv\")"
   ]
  },
  {
   "cell_type": "code",
   "execution_count": 4,
   "id": "ce4a4559",
   "metadata": {},
   "outputs": [],
   "source": [
    "df = df[[\"source\", \"text\"]]"
   ]
  },
  {
   "cell_type": "code",
   "execution_count": 7,
   "id": "58af4174",
   "metadata": {},
   "outputs": [],
   "source": [
    "df = df.sample(n=500)"
   ]
  },
  {
   "cell_type": "code",
   "execution_count": 8,
   "id": "b34ff50a",
   "metadata": {},
   "outputs": [
    {
     "data": {
      "text/html": [
       "<div>\n",
       "<style scoped>\n",
       "    .dataframe tbody tr th:only-of-type {\n",
       "        vertical-align: middle;\n",
       "    }\n",
       "\n",
       "    .dataframe tbody tr th {\n",
       "        vertical-align: top;\n",
       "    }\n",
       "\n",
       "    .dataframe thead th {\n",
       "        text-align: right;\n",
       "    }\n",
       "</style>\n",
       "<table border=\"1\" class=\"dataframe\">\n",
       "  <thead>\n",
       "    <tr style=\"text-align: right;\">\n",
       "      <th></th>\n",
       "      <th>source</th>\n",
       "      <th>text</th>\n",
       "    </tr>\n",
       "  </thead>\n",
       "  <tbody>\n",
       "    <tr>\n",
       "      <td>8423</td>\n",
       "      <td>MyInforms</td>\n",
       "      <td>Caitlyn_PROPN Jenner_PROPN discuss_VERB fatal_...</td>\n",
       "    </tr>\n",
       "    <tr>\n",
       "      <td>5738</td>\n",
       "      <td>App.ViralNewsChart.com</td>\n",
       "      <td>day_NOUN seemingly_ADV impossible_ADJ feat_NOU...</td>\n",
       "    </tr>\n",
       "    <tr>\n",
       "      <td>5790</td>\n",
       "      <td>MyInforms</td>\n",
       "      <td>new_ADJ report_NOUN U.S_NOUN Center_NOUN disea...</td>\n",
       "    </tr>\n",
       "    <tr>\n",
       "      <td>2274</td>\n",
       "      <td>MyInforms</td>\n",
       "      <td>Season_NOUN 5_NUM ‘Scandal’_NOUN go_VERB full_...</td>\n",
       "    </tr>\n",
       "    <tr>\n",
       "      <td>258</td>\n",
       "      <td>Yahoo! News Australia</td>\n",
       "      <td>Saudi_PROPN k_VERB sanction_NOUN group_NOUN de...</td>\n",
       "    </tr>\n",
       "    <tr>\n",
       "      <td>...</td>\n",
       "      <td>...</td>\n",
       "      <td>...</td>\n",
       "    </tr>\n",
       "    <tr>\n",
       "      <td>5491</td>\n",
       "      <td>App.ViralNewsChart.com</td>\n",
       "      <td>first_ADV image_NOUN walk_ADJ Dead_ADJ Season_...</td>\n",
       "    </tr>\n",
       "    <tr>\n",
       "      <td>3548</td>\n",
       "      <td>MyInforms</td>\n",
       "      <td>democratic_ADJ Chattanooga_PROPN Andy_PROPN Be...</td>\n",
       "    </tr>\n",
       "    <tr>\n",
       "      <td>363</td>\n",
       "      <td>App.ViralNewsChart.com</td>\n",
       "      <td>Robert_VERB unite_PROPN States_PROPN increase_...</td>\n",
       "    </tr>\n",
       "    <tr>\n",
       "      <td>520</td>\n",
       "      <td>Wall Street Business Network</td>\n",
       "      <td>/PRNewswire/_NOUN lead_VERB industry_NOUN evol...</td>\n",
       "    </tr>\n",
       "    <tr>\n",
       "      <td>2990</td>\n",
       "      <td>4 Traders</td>\n",
       "      <td>Holmdel_ADV N.J._PROPN sept_VERB 1_NUM 2015_NU...</td>\n",
       "    </tr>\n",
       "  </tbody>\n",
       "</table>\n",
       "<p>500 rows × 2 columns</p>\n",
       "</div>"
      ],
      "text/plain": [
       "                            source  \\\n",
       "8423                     MyInforms   \n",
       "5738        App.ViralNewsChart.com   \n",
       "5790                     MyInforms   \n",
       "2274                     MyInforms   \n",
       "258          Yahoo! News Australia   \n",
       "...                            ...   \n",
       "5491        App.ViralNewsChart.com   \n",
       "3548                     MyInforms   \n",
       "363         App.ViralNewsChart.com   \n",
       "520   Wall Street Business Network   \n",
       "2990                     4 Traders   \n",
       "\n",
       "                                                   text  \n",
       "8423  Caitlyn_PROPN Jenner_PROPN discuss_VERB fatal_...  \n",
       "5738  day_NOUN seemingly_ADV impossible_ADJ feat_NOU...  \n",
       "5790  new_ADJ report_NOUN U.S_NOUN Center_NOUN disea...  \n",
       "2274  Season_NOUN 5_NUM ‘Scandal’_NOUN go_VERB full_...  \n",
       "258   Saudi_PROPN k_VERB sanction_NOUN group_NOUN de...  \n",
       "...                                                 ...  \n",
       "5491  first_ADV image_NOUN walk_ADJ Dead_ADJ Season_...  \n",
       "3548  democratic_ADJ Chattanooga_PROPN Andy_PROPN Be...  \n",
       "363   Robert_VERB unite_PROPN States_PROPN increase_...  \n",
       "520   /PRNewswire/_NOUN lead_VERB industry_NOUN evol...  \n",
       "2990  Holmdel_ADV N.J._PROPN sept_VERB 1_NUM 2015_NU...  \n",
       "\n",
       "[500 rows x 2 columns]"
      ]
     },
     "execution_count": 8,
     "metadata": {},
     "output_type": "execute_result"
    }
   ],
   "source": [
    "df"
   ]
  },
  {
   "cell_type": "code",
   "execution_count": 9,
   "id": "7ff5712a",
   "metadata": {},
   "outputs": [],
   "source": [
    "df.to_csv(\"small_test.csv\", sep=\"\\t\")"
   ]
  },
  {
   "cell_type": "code",
   "execution_count": null,
   "id": "8da99e33",
   "metadata": {},
   "outputs": [],
   "source": []
  }
 ],
 "metadata": {
  "kernelspec": {
   "display_name": "Python 3 (ipykernel)",
   "language": "python",
   "name": "python3"
  },
  "language_info": {
   "codemirror_mode": {
    "name": "ipython",
    "version": 3
   },
   "file_extension": ".py",
   "mimetype": "text/x-python",
   "name": "python",
   "nbconvert_exporter": "python",
   "pygments_lexer": "ipython3",
   "version": "3.7.4"
  }
 },
 "nbformat": 4,
 "nbformat_minor": 5
}
